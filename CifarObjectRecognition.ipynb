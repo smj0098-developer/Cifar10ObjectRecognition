{
 "cells": [
  {
   "cell_type": "code",
   "execution_count": 1,
   "id": "247cc874",
   "metadata": {
    "scrolled": true
   },
   "outputs": [],
   "source": [
    "# import os\n",
    "# os.environ[\"CUDA_VISIBLE_DEVICES\"] = \"-1\"\n",
    "import numpy as np\n",
    "import tensorflow.keras as K\n",
    "import tensorflow as tf\n",
    "from tensorflow.keras.datasets import cifar10\n",
    "import copy\n",
    "(train_data, train_labels), (test_data, test_labels) = cifar10.load_data()\n",
    "finaltest = copy.copy(test_data)\n",
    "import cv2\n",
    "import matplotlib.pyplot as plt\n"
   ]
  },
  {
   "cell_type": "code",
   "execution_count": 2,
   "id": "f0a945de",
   "metadata": {},
   "outputs": [],
   "source": [
    "# Assume that you have 12GB of GPU memory and want to allocate ~4GB:\n",
    "gpu_options = tf.compat.v1.GPUOptions(per_process_gpu_memory_fraction=1)\n",
    "\n",
    "sess = tf.compat.v1.Session(config=tf.compat.v1.ConfigProto(gpu_options=gpu_options))"
   ]
  },
  {
   "cell_type": "code",
   "execution_count": 3,
   "id": "bbb51c99",
   "metadata": {},
   "outputs": [
    {
     "name": "stdout",
     "output_type": "stream",
     "text": [
      "Num GPUs Available: 1\n",
      "GPU Support: True\n",
      "GPU Device Name: /device:GPU:0\n"
     ]
    }
   ],
   "source": [
    "# Print list of available GPUs\n",
    "print(\"Num GPUs Available:\", len(tf.config.experimental.list_physical_devices('GPU')))\n",
    "\n",
    "# Verify GPU support\n",
    "print(\"GPU Support:\", tf.test.is_built_with_cuda())\n",
    "print(\"GPU Device Name:\", tf.test.gpu_device_name())"
   ]
  },
  {
   "cell_type": "code",
   "execution_count": 4,
   "id": "b99f3e30",
   "metadata": {},
   "outputs": [
    {
     "name": "stdout",
     "output_type": "stream",
     "text": [
      "\n"
     ]
    }
   ],
   "source": [
    "def preprocess(X,Y):\n",
    "    x_p = K.applications.resnet50.preprocess_input(X)\n",
    "    y_p = K.utils.to_categorical(Y,10)\n",
    "    return x_p,y_p\n",
    "\n",
    "# print(train_data)\n",
    "train_data,train_labels = preprocess(train_data,train_labels)\n",
    "print()\n",
    "# print(train_data)\n",
    "test_data,test_labels =  preprocess(test_data,test_labels)"
   ]
  },
  {
   "cell_type": "code",
   "execution_count": 5,
   "id": "67154296",
   "metadata": {},
   "outputs": [],
   "source": [
    "from tensorflow.keras.applications import ResNet50\n",
    "from tensorflow.keras.models import Model"
   ]
  },
  {
   "cell_type": "code",
   "execution_count": 8,
   "id": "b3387bbc",
   "metadata": {},
   "outputs": [],
   "source": [
    "input_t = K.Input(shape=(32,32,3))\n",
    "# Load ResNet50 model\n",
    "base_model = ResNet50(include_top=False, weights=None, input_tensor=input_t)\n",
    "\n",
    "# Load weights from file\n",
    "weights_file = 'resnet50_weights_tf_dim_ordering_tf_kernels_notop.h5'\n",
    "base_model.load_weights(weights_file)\n",
    "\n",
    "# Create a new model with the loaded weights\n",
    "res_model = Model(inputs=base_model.input, outputs=base_model.output)\n"
   ]
  },
  {
   "cell_type": "code",
   "execution_count": 9,
   "id": "743c2575",
   "metadata": {},
   "outputs": [],
   "source": [
    "for layer in res_model.layers[:143]:\n",
    "    layer.trainable = False\n",
    "\n",
    "model = K.models.Sequential()\n",
    "model.add(res_model)\n",
    "\n",
    "model.add(K.layers.Flatten())\n",
    "model.add(K.layers.Dense(10, activation='softmax'))"
   ]
  },
  {
   "cell_type": "code",
   "execution_count": 10,
   "id": "1deb6316",
   "metadata": {},
   "outputs": [],
   "source": [
    "# train_labels"
   ]
  },
  {
   "cell_type": "code",
   "execution_count": 11,
   "id": "c6336cd9",
   "metadata": {},
   "outputs": [],
   "source": [
    "# train_data"
   ]
  },
  {
   "cell_type": "code",
   "execution_count": 11,
   "id": "c3e14546",
   "metadata": {},
   "outputs": [
    {
     "name": "stdout",
     "output_type": "stream",
     "text": [
      "Tensor(\"sequential/dense/Softmax:0\", shape=(None, 10), dtype=float32)\n",
      "Tensor(\"sequential/dense/Softmax:0\", shape=(None, 10), dtype=float32)\n",
      "1563/1563 [==============================] - 91s 54ms/step - loss: 1.6945 - accuracy: 0.4764\n",
      "Model: \"sequential\"\n",
      "_________________________________________________________________\n",
      "Layer (type)                 Output Shape              Param #   \n",
      "=================================================================\n",
      "model (Functional)           (None, 1, 1, 2048)        23587712  \n",
      "_________________________________________________________________\n",
      "flatten (Flatten)            (None, 2048)              0         \n",
      "_________________________________________________________________\n",
      "dense (Dense)                (None, 10)                20490     \n",
      "=================================================================\n",
      "Total params: 23,608,202\n",
      "Trainable params: 14,996,490\n",
      "Non-trainable params: 8,611,712\n",
      "_________________________________________________________________\n"
     ]
    }
   ],
   "source": [
    "# check_point = K.callbacks.ModelCheckpoint(filepath=\"cifar10.h5\",monitor=\"val-acc\",mode=\"max\",save_best_only=True)\n",
    "def categorical_crossentropy(y_true, y_pred):\n",
    "    print(y_pred)\n",
    "    # Avoid numerical instability due to log(0)\n",
    "    epsilon = tf.keras.backend.epsilon()\n",
    "    y_pred = tf.clip_by_value(y_pred, epsilon, 1.0 - epsilon)\n",
    "\n",
    "    # Compute cross-entropy loss\n",
    "    loss = -tf.reduce_sum(y_true * tf.math.log(y_pred), axis=-1)\n",
    "    return loss\n",
    "\n",
    "model.compile(loss=categorical_crossentropy,optimizer=K.optimizers.RMSprop(learning_rate=2e-5),\n",
    "             metrics=['accuracy'])\n",
    "# history = model.fit(train_datanew,train_labelsnew,batch_size=128,epochs=1,verbose=1,validation_data=(test_datanew,test_labelsnew),\n",
    "#                    callbacks=[check_point])\n",
    "history = model.fit(train_data,train_labels,batch_size=32,epochs=1,verbose=1)\n",
    "model.summary()"
   ]
  },
  {
   "cell_type": "code",
   "execution_count": 12,
   "id": "977bf6a6",
   "metadata": {},
   "outputs": [
    {
     "data": {
      "image/png": "[encoded data removed]",
      "text/plain": [
       "<Figure size 1500x200 with 3 Axes>"
      ]
     },
     "metadata": {},
     "output_type": "display_data"
    },
    {
     "name": "stdout",
     "output_type": "stream",
     "text": [
      "preditcion :  9\n",
      "real :  9\n"
     ]
    }
   ],
   "source": [
    "# draw activations of a layer in res_model\n",
    "import matplotlib.pyplot as plt\n",
    "import numpy as np\n",
    "\n",
    "instanceNumber = 11\n",
    "# Select the layer for which you want to visualize activations\n",
    "layer_to_visualize = res_model.layers[0]\n",
    "\n",
    "# Create a model that outputs the activations of the desired layer\n",
    "activation_model = K.models.Model(inputs=res_model.input, outputs=layer_to_visualize.output)\n",
    "\n",
    "# # Get a sample image and preprocess it\n",
    "# sample_image = ...  # Load or create your sample image here\n",
    "# sample_image = preprocess_image(sample_image)  # Implement this function to resize and normalize the image\n",
    "sample_image = test_data[instanceNumber]\n",
    "\n",
    "\n",
    "\n",
    "# Expand the dimensions of the image to match the model's input shape (batch size of 1)\n",
    "sample_image = np.expand_dims(sample_image, axis=0)\n",
    "\n",
    "# Get the activations for the sample image\n",
    "activations = activation_model.predict(sample_image)\n",
    "\n",
    "# Visualize the activations (assuming a 4D tensor with shape (1, h, w, c))\n",
    "num_activations = activations.shape[-1]\n",
    "fig, axs = plt.subplots(1, num_activations, figsize=(15, 2))\n",
    "\n",
    "for i in range(num_activations):\n",
    "    axs[i].imshow(activations[0, :, :, i], cmap='viridis')  # Use any colormap you prefer\n",
    "    axs[i].axis('off')\n",
    "\n",
    "\n",
    "\n",
    "plt.show()\n",
    "sample_image = test_data[instanceNumber]\n",
    "input_image = np.expand_dims(sample_image, axis=0)\n",
    "prediction = model.predict(input_image)\n",
    "print(\"preditcion : \",np.argmax(prediction))\n",
    "print(\"real : \",np.argmax(test_labels[instanceNumber]))"
   ]
  },
  {
   "cell_type": "code",
   "execution_count": 13,
   "id": "990f8b5f",
   "metadata": {},
   "outputs": [
    {
     "data": {
      "text/plain": [
       "1"
      ]
     },
     "execution_count": 13,
     "metadata": {},
     "output_type": "execute_result"
    }
   ],
   "source": [
    "predictions = model.predict(test_data)\n",
    "\n",
    "sample_image = test_data[1]\n",
    "# Expand the dimensions to match the model's input shape (batch size of 1)\n",
    "input_image = np.expand_dims(sample_image, axis=0)\n",
    "\n",
    "# Make the prediction\n",
    "prediction = model.predict(input_image)\n",
    "\n",
    "# The 'prediction' is an array of probabilities for each class\n",
    "# To get the predicted class label, find the index of the highest probability\n",
    "predicted_class_index = np.argmax(prediction)\n",
    "predicted_class_index\n"
   ]
  },
  {
   "cell_type": "code",
   "execution_count": 14,
   "id": "3aeacb7f",
   "metadata": {
    "scrolled": true
   },
   "outputs": [
    {
     "name": "stdout",
     "output_type": "stream",
     "text": [
      "confusion matrix : \n",
      " [[657  30  63  21  18   8  17  27 110  49]\n",
      " [ 47 681   6  24  11  11   9  26  50 135]\n",
      " [ 75  25 473  85 109  52 108  49  17   7]\n",
      " [ 30  45  77 448  48 150  94  60  20  28]\n",
      " [ 22  11  85  63 522  39 109 111  24  14]\n",
      " [  8  21  68 186  45 527  58  72   5  10]\n",
      " [ 12  17  66  66  81  39 692  15   7   5]\n",
      " [ 26  18  43  63  86  54  20 638  15  37]\n",
      " [127  74  16  17  14   5   6  12 662  67]\n",
      " [ 48 161  14  18   8  11   9  37  54 640]] \n",
      "\n",
      " accuracy :  0.594\n"
     ]
    }
   ],
   "source": [
    "import matplotlib.pyplot as plt\n",
    "from sklearn.metrics import confusion_matrix\n",
    "from sklearn.metrics import accuracy_score\n",
    "\n",
    "newypred = []\n",
    "newlabel = []\n",
    "for i in range(len(predictions)):\n",
    "#     plt.imshow(finaltest[i])\n",
    "#     plt.show()\n",
    "    newypred.append(predictions[i].argmax())\n",
    "    newlabel.append(test_labels[i].argmax())\n",
    "#     print(predictions[i].argmax(),test_labels[i].argmax())\n",
    "    \n",
    "    \n",
    "conf_matrix = confusion_matrix(newlabel, newypred)\n",
    "accuracy_score = accuracy_score(newlabel, newypred)\n",
    "print(\"confusion matrix : \\n\",conf_matrix,\"\\n\\n accuracy : \",accuracy_score)"
   ]
  },
  {
   "cell_type": "code",
   "execution_count": 15,
   "id": "c0bbf549",
   "metadata": {},
   "outputs": [],
   "source": [
    "predictions = model.predict(train_data)\n",
    "newypred = []\n",
    "newlabel = []\n",
    "for i in range(len(predictions)):\n",
    "#     plt.imshow(finaltest[i])\n",
    "#     plt.show()\n",
    "    newypred.append(predictions[i].argmax())\n",
    "    newlabel.append(train_labels[i].argmax())\n",
    "#     print(predictions[i].argmax(),test_labels[i].argmax())\n",
    "    \n"
   ]
  },
  {
   "cell_type": "code",
   "execution_count": 16,
   "id": "f4f619e9",
   "metadata": {},
   "outputs": [
    {
     "name": "stdout",
     "output_type": "stream",
     "text": [
      "confusion matrix : \n",
      " [[3576  175  206  107   83   59   59  109  437  189]\n",
      " [ 165 3727   44  121   42   55   56   62  197  531]\n",
      " [ 262   89 2844  308  483  248  409  221   95   41]\n",
      " [  99  128  266 2748  226  660  415  231   96  131]\n",
      " [ 132   62  339  272 2940  168  368  546  100   73]\n",
      " [  53   92  256  767  217 2952  241  332   35   55]\n",
      " [  53   53  225  301  306  165 3778   77   26   16]\n",
      " [  99  102  175  245  381  218   90 3486   53  151]\n",
      " [ 491  262   56   68   47   25   25   28 3766  232]\n",
      " [ 184  660   26  101   57   55   30   98  212 3577]] \n",
      "\n",
      " accuracy :  0.66788\n"
     ]
    }
   ],
   "source": [
    "from sklearn.metrics import confusion_matrix\n",
    "from sklearn.metrics import accuracy_score\n",
    "conf_matrix = confusion_matrix(newlabel, newypred)\n",
    "accuracy_score = accuracy_score(newlabel, newypred)\n",
    "print(\"confusion matrix : \\n\",conf_matrix,\"\\n\\n accuracy : \",accuracy_score)"
   ]
  }
 ],
 "metadata": {
  "kernelspec": {
   "display_name": "tf",
   "language": "python",
   "name": "tf"
  },
  "language_info": {
   "codemirror_mode": {
    "name": "ipython",
    "version": 3
   },
   "file_extension": ".py",
   "mimetype": "text/x-python",
   "name": "python",
   "nbconvert_exporter": "python",
   "pygments_lexer": "ipython3",
   "version": "3.9.17"
  }
 },
 "nbformat": 4,
 "nbformat_minor": 5
}
